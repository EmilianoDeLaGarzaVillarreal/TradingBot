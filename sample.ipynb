{
 "cells": [
  {
   "metadata": {
    "ExecuteTime": {
     "end_time": "2025-01-12T02:16:00.096297Z",
     "start_time": "2025-01-12T02:16:00.089222Z"
    }
   },
   "cell_type": "code",
   "source": [
    "import pandas\n",
    "import pandas as pd\n",
    "import numpy as np\n",
    "import os\n",
    "import sqlalchemy\n",
    "import pymysql\n",
    "from sklearn.ensemble import RandomForestClassifier\n",
    "from sklearn.model_selection import train_test_split\n",
    "from sklearn.metrics import accuracy_score\n",
    "\n",
    "%matplotlib inline\n",
    "import matplotlib.pyplot as plt"
   ],
   "id": "fbc121e30a2defb3",
   "outputs": [],
   "execution_count": 19
  },
  {
   "metadata": {},
   "cell_type": "markdown",
   "source": "The data from the df below is the basis list of the stocks that I will be using the for built of the traded bot.",
   "id": "1c42c67a6201091c"
  },
  {
   "metadata": {
    "ExecuteTime": {
     "end_time": "2025-01-02T01:41:25.442563Z",
     "start_time": "2025-01-02T01:41:25.424701Z"
    }
   },
   "cell_type": "code",
   "source": "df = pd.read_csv(\"data/SP500Data.csv\")",
   "id": "310b74282a365357",
   "outputs": [],
   "execution_count": 2
  },
  {
   "metadata": {
    "ExecuteTime": {
     "end_time": "2025-01-02T01:41:26.834945Z",
     "start_time": "2025-01-02T01:41:26.824404Z"
    }
   },
   "cell_type": "code",
   "source": "df.head()",
   "id": "38cc6c6d14ea388",
   "outputs": [
    {
     "data": {
      "text/plain": [
       "   NUMBER TICKER                   NAME MARKET CAP  STOCK PRICE  %CHANGE  \\\n",
       "0       1   AAPL             Apple Inc.  3,915.30B       259.02   0.0032   \n",
       "1       2   NVDA     NVIDIA Corporation  3,426.89B       139.93  -0.0021   \n",
       "2       3   MSFT  Microsoft Corporation  3,257.30B       438.11  -0.0028   \n",
       "3       4   GOOG          Alphabet Inc.  2,408.66B       197.10  -0.0024   \n",
       "4       5  GOOGL          Alphabet Inc.  2,394.34B       195.60  -0.0026   \n",
       "\n",
       "   REVENUE  \n",
       "0  391.04B  \n",
       "1  113.27B  \n",
       "2  254.19B  \n",
       "3  339.86B  \n",
       "4  339.86B  "
      ],
      "text/html": [
       "<div>\n",
       "<style scoped>\n",
       "    .dataframe tbody tr th:only-of-type {\n",
       "        vertical-align: middle;\n",
       "    }\n",
       "\n",
       "    .dataframe tbody tr th {\n",
       "        vertical-align: top;\n",
       "    }\n",
       "\n",
       "    .dataframe thead th {\n",
       "        text-align: right;\n",
       "    }\n",
       "</style>\n",
       "<table border=\"1\" class=\"dataframe\">\n",
       "  <thead>\n",
       "    <tr style=\"text-align: right;\">\n",
       "      <th></th>\n",
       "      <th>NUMBER</th>\n",
       "      <th>TICKER</th>\n",
       "      <th>NAME</th>\n",
       "      <th>MARKET CAP</th>\n",
       "      <th>STOCK PRICE</th>\n",
       "      <th>%CHANGE</th>\n",
       "      <th>REVENUE</th>\n",
       "    </tr>\n",
       "  </thead>\n",
       "  <tbody>\n",
       "    <tr>\n",
       "      <th>0</th>\n",
       "      <td>1</td>\n",
       "      <td>AAPL</td>\n",
       "      <td>Apple Inc.</td>\n",
       "      <td>3,915.30B</td>\n",
       "      <td>259.02</td>\n",
       "      <td>0.0032</td>\n",
       "      <td>391.04B</td>\n",
       "    </tr>\n",
       "    <tr>\n",
       "      <th>1</th>\n",
       "      <td>2</td>\n",
       "      <td>NVDA</td>\n",
       "      <td>NVIDIA Corporation</td>\n",
       "      <td>3,426.89B</td>\n",
       "      <td>139.93</td>\n",
       "      <td>-0.0021</td>\n",
       "      <td>113.27B</td>\n",
       "    </tr>\n",
       "    <tr>\n",
       "      <th>2</th>\n",
       "      <td>3</td>\n",
       "      <td>MSFT</td>\n",
       "      <td>Microsoft Corporation</td>\n",
       "      <td>3,257.30B</td>\n",
       "      <td>438.11</td>\n",
       "      <td>-0.0028</td>\n",
       "      <td>254.19B</td>\n",
       "    </tr>\n",
       "    <tr>\n",
       "      <th>3</th>\n",
       "      <td>4</td>\n",
       "      <td>GOOG</td>\n",
       "      <td>Alphabet Inc.</td>\n",
       "      <td>2,408.66B</td>\n",
       "      <td>197.10</td>\n",
       "      <td>-0.0024</td>\n",
       "      <td>339.86B</td>\n",
       "    </tr>\n",
       "    <tr>\n",
       "      <th>4</th>\n",
       "      <td>5</td>\n",
       "      <td>GOOGL</td>\n",
       "      <td>Alphabet Inc.</td>\n",
       "      <td>2,394.34B</td>\n",
       "      <td>195.60</td>\n",
       "      <td>-0.0026</td>\n",
       "      <td>339.86B</td>\n",
       "    </tr>\n",
       "  </tbody>\n",
       "</table>\n",
       "</div>"
      ]
     },
     "execution_count": 3,
     "metadata": {},
     "output_type": "execute_result"
    }
   ],
   "execution_count": 3
  },
  {
   "metadata": {},
   "cell_type": "markdown",
   "source": "Below is the code for the creation of all the Excel files. I just added the Excel formula to each Excel file, and opening the app clicked enter for the formula to update (could have been done with another script.)",
   "id": "276b69716bd10d3"
  },
  {
   "metadata": {
    "ExecuteTime": {
     "end_time": "2024-12-29T16:30:38.403072Z",
     "start_time": "2024-12-29T16:30:38.398498Z"
    }
   },
   "cell_type": "code",
   "source": [
    "for tick in df[\"TICKER\"]:\n",
    "    dfTick = pd.DataFrame(['=STOCKHISTORY(\"%s\", \"1980-01-01\", \"2024-12-25\",0,0,0,1,2,3,4,5)'%tick])\n",
    "    ###dfTick.to_csv(path_or_buf=\"data/SP500DataSQL/%s.csv\"%tick, header=False, index=False) ###DON'T RUN###\n",
    "    break"
   ],
   "id": "8c96d00e1769a866",
   "outputs": [],
   "execution_count": 4
  },
  {
   "metadata": {},
   "cell_type": "markdown",
   "source": [
    "Below I decided to add the column names and make the date column the 'index column'. A couple of problems I went through were the appearance of euro marks in the Excel files, also there were some problems with the regex and the column names being converted to floats, this happened because the column names were added multiple times, so I needed to go through the first Excel file which is basically a test/trial file and update again to erase the column names. the try and except clauses are just for weird symbols that might appear in the Excel files.\n",
    "Day 4 - Now I had to reformat the date column to be a true date instead of an object, this took a lot of attempts to get right, I kept getting errors because sometimes headers were duplicated or index columns were added incorrectly. Now I don't need the try and except clauses which leads me to believe now the code is better written.\n",
    "Day 10 or so - Finally was illuminated enough to be able to move the data to sql tables, now I will actually explore and clean it, then might decide to add some more columns with important data that the model can use to better identify trends."
   ],
   "id": "8008ec1f64dac06b"
  },
  {
   "metadata": {
    "ExecuteTime": {
     "end_time": "2025-01-12T02:29:12.717260Z",
     "start_time": "2025-01-12T02:29:12.709772Z"
    }
   },
   "cell_type": "code",
   "source": [
    "url_object = sqlalchemy.URL.create(\n",
    "    \"mysql+pymysql\",\n",
    "    username=\"*\",\n",
    "    password=\"*\",  # plain (unescaped) text\n",
    "    host=\"*\",\n",
    "    database=\"*\",\n",
    "    )\n",
    "eng = sqlalchemy.create_engine(url_object)"
   ],
   "id": "5e078c9ca75dad85",
   "outputs": [],
   "execution_count": 29
  },
  {
   "metadata": {
    "ExecuteTime": {
     "end_time": "2025-01-12T03:23:51.415151Z",
     "start_time": "2025-01-12T03:23:50.723299Z"
    }
   },
   "cell_type": "code",
   "source": [
    "df = pd.DataFrame\n",
    "directory = os.fsencode(\"data/SP500Data\")\n",
    "for file in os.listdir(directory):\n",
    "    filename = os.fsdecode(file)\n",
    "    df = pd.read_csv(\"data/SP500Data/%s\"%filename)\n",
    "    df[\"Date\"] = pd.to_datetime(df[\"Date\"])\n",
    "    df.set_index(\"Date\", drop=True, inplace=True) #make sure to convert date to datetime so it can be recognized as such by pandas\n",
    "    df = df.replace(\"[^.0-9]\", \"\", regex=True).astype(float) #Here we use some regex to convert all columns to float values\n",
    "    #Percentage return from previous close day\n",
    "    df['Returns'] = df['Close'].pct_change().round(8)\n",
    "    # Calculate weekly returns\n",
    "    df['Weekly Return'] = ((df['Close'] - df['Close'].shift(7)) / 100).round(8)\n",
    "    # Calculate monthly returns\n",
    "    df['Monthly Return'] = ((df['Close'] - df['Close'].shift(30)) / 100).round(8)\n",
    "    # Calculate the daily price changes\n",
    "    df['Change'] = df['Close'].diff().round(6)\n",
    "    # Separate the gains and losses\n",
    "    df['Gain'] = np.where(df['Change'] > 0, df['Change'], 0).round(6) #if 'Change' > 0 then it is a gain\n",
    "    df['Loss'] = np.where(df['Change'] < 0, -df['Change'], 0).round(6) #else it is a loss.\n",
    "    # Calculate the average gains and losses\n",
    "    df['Avg Gain'] = df['Gain'].rolling(window=14).mean().round(6)\n",
    "    df['Avg Loss'] = df['Loss'].rolling(window=14).mean().round(6)\n",
    "    # Calculate the Relative Strength (RS)\n",
    "    df['RS'] = (df['Avg Gain'] / df['Avg Loss']).round(6)\n",
    "    # Calculate the RSI\n",
    "    df['RSI'] = (100 - (100 / (1 + df['RS']))).round(6)\n",
    "    # Calculate the Simple Moving Average with a span of 5 days\n",
    "    df['MA5'] = df['Close'].rolling(window=5).mean().round(6)\n",
    "    # Calculate the Simple Moving Average with a span of 10 days\n",
    "    df['MA10'] = df['Close'].rolling(window=10).mean().round(6)\n",
    "    # Calculate the Simple Moving Average with a span of 20 days\n",
    "    df['MA20'] = df['Close'].rolling(window=20).mean().round(6)\n",
    "    # Calculate the Simple Moving Average with a span of 50 days\n",
    "    df['MA50'] = df['Close'].rolling(window=50).mean().round(6)\n",
    "    # Calculate the Simple Moving Average with a span of 200 days\n",
    "    df['MA200'] = df['Close'].rolling(window=200).mean().round(6)\n",
    "    # Calculate the EWMA with a span of 10 days\n",
    "    df['EWMA10'] = df['Close'].ewm(span=10, adjust=False).mean().round(6)\n",
    "    # Calculate the EWMA with a span of 12 days for MACD\n",
    "    df['EWMA12'] = df['Close'].ewm(span=12, adjust=False).mean().round(6)\n",
    "    # Calculate the EWMA with a span of 26 days for MACD\n",
    "    df['EWMA26'] = df['Close'].ewm(span=26, adjust=False).mean().round(6)\n",
    "    # Calculate the EWMA with a span of 50 days\n",
    "    df['EWMA50'] = df['Close'].ewm(span=50, adjust=False).mean().round(6)\n",
    "    # Calculate the EWMA with a span of 200 days\n",
    "    df['EWMA200'] = df['Close'].ewm(span=200, adjust=False).mean().round(6)\n",
    "    # Calculate the 20-day rolling volatility (standard deviation of returns)\n",
    "    df['Volatility20'] = df['Returns'].rolling(window=20).std().round(6)\n",
    "    # Calculate the 30-day rolling volatility\n",
    "    df['Volatility30'] = df['Returns'].rolling(window=30).std().round(6)\n",
    "    # Calculate the MACD line\n",
    "    df['MACD'] = (df['EWMA12'] - df['EWMA26']).round(6)\n",
    "    # Calculate the Signal line (9 periods EMA of the MACD line)\n",
    "    df['Signal Line'] = (df['MACD'].ewm(span=9, adjust=False).mean()).round(6)\n",
    "    # Calculate the MACD Histogram\n",
    "    df['MACD Histogram'] = (df['MACD'] - df['Signal Line']).round(6)\n",
    "    #Calculate Standard Dev for 20MA\n",
    "    df[\"STD20\"] = (df['Close'].rolling(window=20).std()).round(6)\n",
    "    # Calculate the Upper and Lower Bollinger Bands\n",
    "    df['Upper Band'] = (df['MA20'] + (2 * df['STD20'])).round(6)\n",
    "    df['Lower Band'] = (df['MA20'] - (2 * df['STD20'])).round(6)\n",
    "    # Calculate the typical price\n",
    "    df['Typical Price'] = ((df['High'] + df['Low'] + df['Close']) / 3).round(6)\n",
    "    # Calculate the cumulative typical price * volume\n",
    "    df['Cumulative TPV'] = ((df['Typical Price'] * df['Volume']).cumsum()).round(6)\n",
    "    # Calculate the cumulative volume\n",
    "    df['Cumulative Volume'] = (df['Volume'].cumsum()).round(6)\n",
    "    # Calculate the VWAP\n",
    "    df['VWAP'] = (df['Cumulative TPV'] / df['Cumulative Volume']).round(6)\n",
    "    df = df.replace([np.inf, -np.inf], np.nan)\n",
    "    df.dropna(how='any', inplace=True)\n",
    "    #df = df[df.Returns != 0] #Value from day when there was no trade.\n",
    "    # #price rises next day then buy\n",
    "    df['TargetBuy'] = np.where(df['Close'].shift(-1) > df['Close'], 1, 0)\n",
    "\n",
    "    #price drops next day then sell\n",
    "    df['TargetSell'] = np.where(df['Close'].shift(-1) < df['Close'], 1, 0)\n",
    "    filename = (filename[:-4]).lower()\n",
    "    df.to_sql(name=\"%s\"%filename, con=eng, if_exists=\"replace\", index=True)\n",
    "    #df.to_csv(path_or_buf=\"data/SP500Data/%s\"%filename) Commented it out because I am doing sql now.\n",
    "    break"
   ],
   "id": "18ff29e493df92a5",
   "outputs": [],
   "execution_count": 63
  },
  {
   "metadata": {},
   "cell_type": "markdown",
   "source": "Need to check returns, daily, weekly and monthly. Then find a way to only have 1's appear when I need to sell or buy.",
   "id": "c66cf57b3fffcce4"
  },
  {
   "metadata": {
    "ExecuteTime": {
     "end_time": "2025-01-12T03:00:44.088672Z",
     "start_time": "2025-01-12T03:00:44.077207Z"
    }
   },
   "cell_type": "code",
   "source": [
    "temNP = np.where(df['Close'].shift(-1) > df['Close'], 1, 0)\n",
    "for i in range(1, len(temNP)):\n",
    "        if temNP[i] == 1:\n",
    "            j = i + 1\n",
    "            while j < len(temNP) and temNP[j] >= temNP[j - 1]:\n",
    "                temNP[j] = 0\n",
    "                j += 1\n"
   ],
   "id": "1357e04c020e7dae",
   "outputs": [],
   "execution_count": 49
  },
  {
   "metadata": {
    "ExecuteTime": {
     "end_time": "2025-01-12T03:01:03.961340Z",
     "start_time": "2025-01-12T03:01:03.952478Z"
    }
   },
   "cell_type": "code",
   "source": "temNP[0:40]",
   "id": "485998cbdd66a0dd",
   "outputs": [
    {
     "data": {
      "text/plain": [
       "array([0, 0, 1, 0, 0, 0, 1, 0, 0, 0, 0, 0, 0, 0, 0, 0, 0, 0, 0, 0, 0, 0,\n",
       "       0, 0, 0, 0, 0, 0, 0, 0, 0, 0, 0, 0, 0, 0, 0, 0, 0, 0])"
      ]
     },
     "execution_count": 52,
     "metadata": {},
     "output_type": "execute_result"
    }
   ],
   "execution_count": 52
  },
  {
   "metadata": {},
   "cell_type": "markdown",
   "source": "I need to discover how to analyze the sql using python/pandas/numpy etc. I might just do it on DataGrip.",
   "id": "dc35f96f78401d6f"
  },
  {
   "metadata": {
    "ExecuteTime": {
     "end_time": "2025-01-12T02:32:29.381135Z",
     "start_time": "2025-01-12T02:32:29.319713Z"
    }
   },
   "cell_type": "code",
   "source": [
    "df = pd.DataFrame\n",
    "directory = os.fsencode('data/SP500Data')\n",
    "for file in os.listdir(directory):\n",
    "    filename = os.fsdecode(file)\n",
    "    filename = (filename[:-4]).lower()\n",
    "    df = pd.read_sql('SELECT MA5, MA20, RSI, TargetBuy, TargetSell FROM %s'%filename, con=eng)\n",
    "    break\n"
   ],
   "id": "f27598f233274a30",
   "outputs": [],
   "execution_count": 35
  },
  {
   "metadata": {
    "ExecuteTime": {
     "end_time": "2025-01-12T02:32:30.098287Z",
     "start_time": "2025-01-12T02:32:30.090855Z"
    }
   },
   "cell_type": "code",
   "source": "df.head()",
   "id": "63b24e01940dc618",
   "outputs": [
    {
     "data": {
      "text/plain": [
       "      MA5     MA20        RSI  TargetBuy  TargetSell\n",
       "0  41.218  35.1960  82.408381          0           1\n",
       "1  41.648  35.9395  85.219277          0           1\n",
       "2  41.244  36.6535  79.232383          1           0\n",
       "3  41.312  37.4135  67.165413          0           1\n",
       "4  41.076  38.0955  57.249666          0           1"
      ],
      "text/html": [
       "<div>\n",
       "<style scoped>\n",
       "    .dataframe tbody tr th:only-of-type {\n",
       "        vertical-align: middle;\n",
       "    }\n",
       "\n",
       "    .dataframe tbody tr th {\n",
       "        vertical-align: top;\n",
       "    }\n",
       "\n",
       "    .dataframe thead th {\n",
       "        text-align: right;\n",
       "    }\n",
       "</style>\n",
       "<table border=\"1\" class=\"dataframe\">\n",
       "  <thead>\n",
       "    <tr style=\"text-align: right;\">\n",
       "      <th></th>\n",
       "      <th>MA5</th>\n",
       "      <th>MA20</th>\n",
       "      <th>RSI</th>\n",
       "      <th>TargetBuy</th>\n",
       "      <th>TargetSell</th>\n",
       "    </tr>\n",
       "  </thead>\n",
       "  <tbody>\n",
       "    <tr>\n",
       "      <th>0</th>\n",
       "      <td>41.218</td>\n",
       "      <td>35.1960</td>\n",
       "      <td>82.408381</td>\n",
       "      <td>0</td>\n",
       "      <td>1</td>\n",
       "    </tr>\n",
       "    <tr>\n",
       "      <th>1</th>\n",
       "      <td>41.648</td>\n",
       "      <td>35.9395</td>\n",
       "      <td>85.219277</td>\n",
       "      <td>0</td>\n",
       "      <td>1</td>\n",
       "    </tr>\n",
       "    <tr>\n",
       "      <th>2</th>\n",
       "      <td>41.244</td>\n",
       "      <td>36.6535</td>\n",
       "      <td>79.232383</td>\n",
       "      <td>1</td>\n",
       "      <td>0</td>\n",
       "    </tr>\n",
       "    <tr>\n",
       "      <th>3</th>\n",
       "      <td>41.312</td>\n",
       "      <td>37.4135</td>\n",
       "      <td>67.165413</td>\n",
       "      <td>0</td>\n",
       "      <td>1</td>\n",
       "    </tr>\n",
       "    <tr>\n",
       "      <th>4</th>\n",
       "      <td>41.076</td>\n",
       "      <td>38.0955</td>\n",
       "      <td>57.249666</td>\n",
       "      <td>0</td>\n",
       "      <td>1</td>\n",
       "    </tr>\n",
       "  </tbody>\n",
       "</table>\n",
       "</div>"
      ]
     },
     "execution_count": 36,
     "metadata": {},
     "output_type": "execute_result"
    }
   ],
   "execution_count": 36
  },
  {
   "metadata": {},
   "cell_type": "code",
   "outputs": [],
   "execution_count": null,
   "source": "",
   "id": "1638e7fc5590bb5c"
  }
 ],
 "metadata": {
  "kernelspec": {
   "display_name": "Python 3",
   "language": "python",
   "name": "python3"
  },
  "language_info": {
   "codemirror_mode": {
    "name": "ipython",
    "version": 2
   },
   "file_extension": ".py",
   "mimetype": "text/x-python",
   "name": "python",
   "nbconvert_exporter": "python",
   "pygments_lexer": "ipython2",
   "version": "2.7.6"
  }
 },
 "nbformat": 4,
 "nbformat_minor": 5
}
